{
 "cells": [
  {
   "cell_type": "code",
   "execution_count": 1,
   "metadata": {},
   "outputs": [],
   "source": [
    "import sklearn.metrics\n",
    "import numpy as np"
   ]
  },
  {
   "cell_type": "code",
   "execution_count": 2,
   "metadata": {},
   "outputs": [],
   "source": [
    "class CohensKappa(object):\n",
    "\n",
    "    def __init__(self,true, predicted):\n",
    "\n",
    "        self.true = true\n",
    "        self.predicted = predicted\n",
    "        self.cohen = 0\n",
    "        self.cm = sklearn.metrics.confusion_matrix(self.true.iloc[:,1],self.predicted.iloc[:,1])\n",
    "        self.cmr = self._normalise() \n",
    "        \n",
    "    def setDataSet(self, dataset):\n",
    "        \"\"\"\n",
    "        Set dataset 1\n",
    "        :param dataset:\n",
    "        :return:\n",
    "        \"\"\"\n",
    "\n",
    "        self.dataset = dataset\n",
    "\n",
    "    def _normalise(self):\n",
    "        return self.cm.astype('float')/self.cm.sum(axis=0)\n",
    "\n",
    "    def getKappa(self):\n",
    "        \"\"\"\n",
    "        get cohen kappa\n",
    "        :return:\n",
    "        \"\"\"\n",
    "        return self.cohen\n",
    "\n",
    "    def ConfusionMatrix(self):\n",
    "        \"\"\"\n",
    "        sklearn computing comfusion matrix\n",
    "        :return:\n",
    "        \"\"\"\n",
    "\n",
    "        return self.cm\n",
    "\n",
    "    def ConfusionMatrixRelative(self):\n",
    "        \"\"\"\n",
    "        sklearn computing comfusion matrix\n",
    "        :return:\n",
    "        \"\"\"\n",
    "        \n",
    "        return self.cmr\n",
    "    \n",
    "    def SampleAccurancy(self):\n",
    "        \"\"\"\n",
    "        \n",
    "        \"\"\"\n",
    "        return np.trace(self.cm)/len(self.true.index)\n",
    "    \n",
    "    def _sefKappa(self):\n",
    "        pass"
   ]
  },
  {
   "cell_type": "code",
   "execution_count": 3,
   "metadata": {},
   "outputs": [],
   "source": [
    "from pandas import read_csv\n",
    "\n",
    "pred = read_csv('./data/cry-F1.csv', header=None, names=['id','class'], sep=';')\n",
    "true = read_csv('./data/cry-gs.csv', header=None, names=['id','class'], sep=';')"
   ]
  },
  {
   "cell_type": "code",
   "execution_count": 4,
   "metadata": {},
   "outputs": [
    {
     "data": {
      "text/plain": [
       "array([[125,   9,   0,   6,   8],\n",
       "       [  2,  48,   0,   2,   1],\n",
       "       [  0,   0,  12,   1,   0],\n",
       "       [  4,   1,   1,  22,   0],\n",
       "       [  0,   1,   0,   2,   5]])"
      ]
     },
     "execution_count": 4,
     "metadata": {},
     "output_type": "execute_result"
    }
   ],
   "source": [
    "data = CohensKappa(pred, true)\n",
    "data.ConfusionMatrix()"
   ]
  },
  {
   "cell_type": "code",
   "execution_count": 5,
   "metadata": {},
   "outputs": [
    {
     "data": {
      "text/plain": [
       "array([[0.95419847, 0.15254237, 0.        , 0.18181818, 0.57142857],\n",
       "       [0.01526718, 0.81355932, 0.        , 0.06060606, 0.07142857],\n",
       "       [0.        , 0.        , 0.92307692, 0.03030303, 0.        ],\n",
       "       [0.03053435, 0.01694915, 0.07692308, 0.66666667, 0.        ],\n",
       "       [0.        , 0.01694915, 0.        , 0.06060606, 0.35714286]])"
      ]
     },
     "execution_count": 5,
     "metadata": {},
     "output_type": "execute_result"
    }
   ],
   "source": [
    "data.ConfusionMatrixRelative()"
   ]
  },
  {
   "cell_type": "code",
   "execution_count": 6,
   "metadata": {},
   "outputs": [
    {
     "data": {
      "text/plain": [
       "0.848"
      ]
     },
     "execution_count": 6,
     "metadata": {},
     "output_type": "execute_result"
    }
   ],
   "source": [
    "data.SampleAccurancy()\n"
   ]
  },
  {
   "cell_type": "code",
   "execution_count": 7,
   "metadata": {},
   "outputs": [
    {
     "data": {
      "text/plain": [
       "0.848"
      ]
     },
     "execution_count": 7,
     "metadata": {},
     "output_type": "execute_result"
    }
   ],
   "source": [
    "212/250\n"
   ]
  }
 ],
 "metadata": {
  "kernelspec": {
   "display_name": "Python 3",
   "language": "python",
   "name": "python3"
  },
  "language_info": {
   "codemirror_mode": {
    "name": "ipython",
    "version": 3
   },
   "file_extension": ".py",
   "mimetype": "text/x-python",
   "name": "python",
   "nbconvert_exporter": "python",
   "pygments_lexer": "ipython3",
   "version": "3.7.1"
  }
 },
 "nbformat": 4,
 "nbformat_minor": 2
}
